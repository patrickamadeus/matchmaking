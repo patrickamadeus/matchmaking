{
 "cells": [
  {
   "cell_type": "code",
   "execution_count": 1,
   "metadata": {},
   "outputs": [],
   "source": [
    "# !python -m pip install names"
   ]
  },
  {
   "cell_type": "code",
   "execution_count": 2,
   "metadata": {},
   "outputs": [],
   "source": [
    "import pandas as pd\n",
    "import numpy as np\n",
    "import random"
   ]
  },
  {
   "cell_type": "markdown",
   "metadata": {},
   "source": [
    "### Reference Tables"
   ]
  },
  {
   "cell_type": "code",
   "execution_count": 3,
   "metadata": {},
   "outputs": [
    {
     "data": {
      "text/html": [
       "<div>\n",
       "<style scoped>\n",
       "    .dataframe tbody tr th:only-of-type {\n",
       "        vertical-align: middle;\n",
       "    }\n",
       "\n",
       "    .dataframe tbody tr th {\n",
       "        vertical-align: top;\n",
       "    }\n",
       "\n",
       "    .dataframe thead th {\n",
       "        text-align: right;\n",
       "    }\n",
       "</style>\n",
       "<table border=\"1\" class=\"dataframe\">\n",
       "  <thead>\n",
       "    <tr style=\"text-align: right;\">\n",
       "      <th></th>\n",
       "      <th>interest_name</th>\n",
       "      <th>interest_id</th>\n",
       "      <th>interest_group</th>\n",
       "      <th>interest_prob</th>\n",
       "    </tr>\n",
       "  </thead>\n",
       "  <tbody>\n",
       "    <tr>\n",
       "      <th>0</th>\n",
       "      <td>Volunteer work/Community involvement</td>\n",
       "      <td>1</td>\n",
       "      <td>1</td>\n",
       "      <td>0.020</td>\n",
       "    </tr>\n",
       "    <tr>\n",
       "      <th>1</th>\n",
       "      <td>Sports, health &amp; wellness</td>\n",
       "      <td>2</td>\n",
       "      <td>2</td>\n",
       "      <td>0.040</td>\n",
       "    </tr>\n",
       "    <tr>\n",
       "      <th>2</th>\n",
       "      <td>Art, music &amp; entertainment</td>\n",
       "      <td>3</td>\n",
       "      <td>3</td>\n",
       "      <td>0.100</td>\n",
       "    </tr>\n",
       "    <tr>\n",
       "      <th>3</th>\n",
       "      <td>Gaming</td>\n",
       "      <td>4</td>\n",
       "      <td>3</td>\n",
       "      <td>0.200</td>\n",
       "    </tr>\n",
       "    <tr>\n",
       "      <th>4</th>\n",
       "      <td>Traveling</td>\n",
       "      <td>5</td>\n",
       "      <td>2</td>\n",
       "      <td>0.015</td>\n",
       "    </tr>\n",
       "    <tr>\n",
       "      <th>5</th>\n",
       "      <td>Competition</td>\n",
       "      <td>6</td>\n",
       "      <td>4</td>\n",
       "      <td>0.100</td>\n",
       "    </tr>\n",
       "    <tr>\n",
       "      <th>6</th>\n",
       "      <td>Reading</td>\n",
       "      <td>7</td>\n",
       "      <td>5</td>\n",
       "      <td>0.100</td>\n",
       "    </tr>\n",
       "    <tr>\n",
       "      <th>7</th>\n",
       "      <td>Investing</td>\n",
       "      <td>8</td>\n",
       "      <td>6</td>\n",
       "      <td>0.200</td>\n",
       "    </tr>\n",
       "    <tr>\n",
       "      <th>8</th>\n",
       "      <td>Cooking &amp; culinary</td>\n",
       "      <td>9</td>\n",
       "      <td>2</td>\n",
       "      <td>0.015</td>\n",
       "    </tr>\n",
       "    <tr>\n",
       "      <th>9</th>\n",
       "      <td>Science &amp; education</td>\n",
       "      <td>10</td>\n",
       "      <td>7</td>\n",
       "      <td>0.020</td>\n",
       "    </tr>\n",
       "    <tr>\n",
       "      <th>10</th>\n",
       "      <td>Writing/blogging</td>\n",
       "      <td>11</td>\n",
       "      <td>5</td>\n",
       "      <td>0.020</td>\n",
       "    </tr>\n",
       "    <tr>\n",
       "      <th>11</th>\n",
       "      <td>Business</td>\n",
       "      <td>12</td>\n",
       "      <td>6</td>\n",
       "      <td>0.150</td>\n",
       "    </tr>\n",
       "    <tr>\n",
       "      <th>12</th>\n",
       "      <td>Technology advancements</td>\n",
       "      <td>13</td>\n",
       "      <td>7</td>\n",
       "      <td>0.020</td>\n",
       "    </tr>\n",
       "  </tbody>\n",
       "</table>\n",
       "</div>"
      ],
      "text/plain": [
       "                           interest_name  interest_id  interest_group  \\\n",
       "0   Volunteer work/Community involvement            1               1   \n",
       "1              Sports, health & wellness            2               2   \n",
       "2             Art, music & entertainment            3               3   \n",
       "3                                 Gaming            4               3   \n",
       "4                              Traveling            5               2   \n",
       "5                            Competition            6               4   \n",
       "6                                Reading            7               5   \n",
       "7                              Investing            8               6   \n",
       "8                     Cooking & culinary            9               2   \n",
       "9                    Science & education           10               7   \n",
       "10                      Writing/blogging           11               5   \n",
       "11                              Business           12               6   \n",
       "12               Technology advancements           13               7   \n",
       "\n",
       "    interest_prob  \n",
       "0           0.020  \n",
       "1           0.040  \n",
       "2           0.100  \n",
       "3           0.200  \n",
       "4           0.015  \n",
       "5           0.100  \n",
       "6           0.100  \n",
       "7           0.200  \n",
       "8           0.015  \n",
       "9           0.020  \n",
       "10          0.020  \n",
       "11          0.150  \n",
       "12          0.020  "
      ]
     },
     "execution_count": 3,
     "metadata": {},
     "output_type": "execute_result"
    }
   ],
   "source": [
    "interests_df = pd.DataFrame([\n",
    "    ['Volunteer work/Community involvement', 1, 1, 0.02],\n",
    "    ['Sports, health & wellness', 2, 2, 0.04],\n",
    "    ['Art, music & entertainment', 3, 3, 0.1],\n",
    "    ['Gaming', 4, 3, 0.2],\n",
    "    ['Traveling', 5, 2, 0.015],\n",
    "    ['Competition', 6, 4, 0.1],\n",
    "    ['Reading', 7, 5, 0.1],\n",
    "    ['Investing', 8, 6, 0.2],\n",
    "    ['Cooking & culinary', 9, 2, 0.015],\n",
    "    ['Science & education', 10, 7, 0.02],\n",
    "    ['Writing/blogging', 11, 5, 0.02],\n",
    "    ['Business', 12, 6, 0.15],\n",
    "    ['Technology advancements', 13, 7, 0.02],\n",
    "], columns=['interest_name', 'interest_id', 'interest_group', 'interest_prob'])\n",
    "\n",
    "interests_df"
   ]
  },
  {
   "cell_type": "code",
   "execution_count": 4,
   "metadata": {},
   "outputs": [],
   "source": [
    "n_universities = 200\n",
    "n_majors = 100\n",
    "n_countries = 10\n",
    "n_states = 10\n",
    "\n",
    "universities = []\n",
    "for i in range(n_universities):\n",
    "    country_id = random.choices(\n",
    "        range(n_countries),\n",
    "        weights=[np.exp(n_countries-j) for j in range(n_countries)],\n",
    "        k=1\n",
    "    )[0]\n",
    "    state_id = random.choice(range(n_states))\n",
    "    universities.append([i, country_id, state_id])\n",
    "\n",
    "universities_df = pd.DataFrame(universities, columns=['university_id', 'country_id', 'state_id'])"
   ]
  },
  {
   "cell_type": "markdown",
   "metadata": {},
   "source": [
    "### Dummy Mentor and Mentee Database"
   ]
  },
  {
   "cell_type": "code",
   "execution_count": 5,
   "metadata": {},
   "outputs": [],
   "source": [
    "import names"
   ]
  },
  {
   "cell_type": "code",
   "execution_count": 6,
   "metadata": {},
   "outputs": [],
   "source": [
    "n_mentors = 500\n",
    "n_mentees = 3000"
   ]
  },
  {
   "cell_type": "code",
   "execution_count": 7,
   "metadata": {},
   "outputs": [],
   "source": [
    "mentors = []\n",
    "name = None\n",
    "mentors_name = []\n",
    "for i in range(n_mentors):\n",
    "    while name is None or name in mentors_name:\n",
    "        name = names.get_full_name().lower().replace(' ', '_')\n",
    "    n_interest_squared = np.random.randint(1, 16)\n",
    "    n_interest = int(np.floor(np.sqrt(n_interest_squared)))\n",
    "    interests = np.random.choice(\n",
    "        interests_df.interest_id, n_interest, replace=False, p=interests_df.interest_prob\n",
    "    ).tolist()\n",
    "    university_id = random.choices(\n",
    "        universities_df.university_id, universities_df.university_id\n",
    "    )[0]\n",
    "    major_id = random.choices(\n",
    "        range(n_majors), range(n_majors)\n",
    "    )[0]\n",
    "    country_id, state_id = universities_df.loc[university_id, ['country_id', 'state_id']]\n",
    "    n_slot_squared = np.random.randint(1, 36)\n",
    "    n_slot = int(np.floor(np.sqrt(n_slot_squared)))\n",
    "    mentors_name.append(name)\n",
    "    mentors.append([i, name, interests, university_id, major_id, country_id, state_id, n_slot])\n",
    "\n",
    "mentees = []\n",
    "name = None\n",
    "mentees_name = []\n",
    "for i in range(n_mentees):\n",
    "    while name is None or name in mentees_name:\n",
    "        name = names.get_full_name().lower().replace(' ', '_')\n",
    "    n_interest_squared = np.random.randint(1, 16)\n",
    "    n_interest = int(np.floor(np.sqrt(n_interest_squared)))\n",
    "    interests = np.random.choice(interests_df.interest_id, n_interest, replace=False)\n",
    "    university_id = random.choices(\n",
    "        universities_df.university_id, universities_df.university_id\n",
    "    )[0]\n",
    "    major_id = random.choices(\n",
    "        range(n_majors), range(n_majors)\n",
    "    )[0]\n",
    "    country_id, state_id = universities_df.loc[university_id, ['country_id', 'state_id']]\n",
    "    mentees_name.append(name)\n",
    "    mentees.append([i, name, interests, university_id, major_id, country_id, state_id])\n"
   ]
  },
  {
   "cell_type": "code",
   "execution_count": 8,
   "metadata": {},
   "outputs": [],
   "source": [
    "mentors_df = pd.DataFrame(\n",
    "    mentors,\n",
    "    columns=['mentor_id', 'mentor_name', 'interests', 'university_id', 'major_id', 'country_id', 'state_id', 'n_slot']\n",
    ")\n",
    "mentees_df = pd.DataFrame(\n",
    "    mentees,\n",
    "    columns=['mentee_id', 'mentee_name', 'interests', 'university_id', 'major_id', 'country_id', 'state_id']\n",
    ")"
   ]
  },
  {
   "cell_type": "markdown",
   "metadata": {},
   "source": [
    "### Compatibility Scoring"
   ]
  },
  {
   "cell_type": "code",
   "execution_count": 9,
   "metadata": {},
   "outputs": [],
   "source": [
    "def score_academic(mentor_id, mentee_id):\n",
    "    score = 0\n",
    "    mentor_uni, mentor_major = mentors_df.loc[mentor_id, ['university_id', 'major_id']]\n",
    "    mentee_uni, mentee_major = mentees_df.loc[mentee_id, ['university_id', 'major_id']]\n",
    "    if mentor_uni == mentee_uni:\n",
    "        score += 5\n",
    "    if mentor_major == mentee_major:\n",
    "        score += 15\n",
    "    return score\n",
    "    "
   ]
  },
  {
   "cell_type": "code",
   "execution_count": 10,
   "metadata": {},
   "outputs": [],
   "source": [
    "def score_domicile(mentor_id, mentee_id):\n",
    "    score = 0\n",
    "    mentor_country, mentor_state = mentors_df.loc[mentor_id, ['country_id', 'state_id']]\n",
    "    mentee_country, mentee_state = mentees_df.loc[mentee_id, ['country_id', 'state_id']]\n",
    "    if mentor_country == mentee_country:\n",
    "        score += 5\n",
    "        if mentor_state == mentee_state:\n",
    "            score += 15\n",
    "    return score"
   ]
  },
  {
   "cell_type": "code",
   "execution_count": 11,
   "metadata": {},
   "outputs": [],
   "source": [
    "def score_interest(mentor_id, mentee_id):\n",
    "    score = 0\n",
    "    mentor_interests = mentors_df.loc[mentor_id, 'interests']\n",
    "    mentee_interests = mentees_df.loc[mentee_id, 'interests']\n",
    "\n",
    "    mentor_interest_groups = interests_df.query('interest_id in @mentor_interests').interest_group.unique()\n",
    "    for interest in mentee_interests:\n",
    "        if interest in mentor_interests:\n",
    "            score += 0.5\n",
    "        if interest in mentor_interest_groups:\n",
    "            score += 0.5\n",
    "    score *= (60 // len(mentor_interests))\n",
    "    return score"
   ]
  },
  {
   "cell_type": "code",
   "execution_count": 12,
   "metadata": {},
   "outputs": [],
   "source": [
    "def score(mentor_id, mentee_id):\n",
    "    return score_academic(mentor_id, mentee_id) + \\\n",
    "        score_domicile(mentor_id, mentee_id) + \\\n",
    "        score_interest(mentor_id, mentee_id)"
   ]
  },
  {
   "cell_type": "code",
   "execution_count": 28,
   "metadata": {},
   "outputs": [],
   "source": [
    "import itertools\n",
    "pairs = pd.DataFrame(\n",
    "    itertools.product(mentors_df.mentor_id, mentees_df.mentee_id),\n",
    "    columns=['mentor_id', 'mentee_id']\n",
    ")\n",
    "pairs.set_index(['mentor_id', 'mentee_id'], inplace=True, drop=True)"
   ]
  },
  {
   "cell_type": "code",
   "execution_count": 29,
   "metadata": {},
   "outputs": [],
   "source": [
    "rejected_pairs = pd.read_csv('rejected_pairs.csv')\n",
    "rejected_pairs.set_index(['mentor_id', 'mentee_id'], inplace=True, drop=True)\n",
    "pairs.drop(rejected_pairs.index, inplace=True)\n",
    "\n",
    "pairs.reset_index(inplace=True)"
   ]
  },
  {
   "cell_type": "code",
   "execution_count": 13,
   "metadata": {},
   "outputs": [
    {
     "name": "stderr",
     "output_type": "stream",
     "text": [
      "100%|██████████| 1500000/1500000 [47:42<00:00, 524.09it/s] \n"
     ]
    }
   ],
   "source": [
    "from tqdm.auto import tqdm\n",
    "tqdm.pandas()\n",
    "\n",
    "pairs['score'] = pairs.progress_apply(lambda x: score(x.mentor_id, x.mentee_id), axis=1)\n",
    "# 200 it/s on google colab, 500 it/s on macbook pro m1"
   ]
  },
  {
   "cell_type": "code",
   "execution_count": 14,
   "metadata": {},
   "outputs": [],
   "source": [
    "pairs = pairs.sort_values('score', ascending=False).reset_index(drop=True)"
   ]
  },
  {
   "cell_type": "markdown",
   "metadata": {},
   "source": [
    "### Matching"
   ]
  },
  {
   "cell_type": "code",
   "execution_count": 15,
   "metadata": {},
   "outputs": [
    {
     "name": "stdout",
     "output_type": "stream",
     "text": [
      "Cooking & culinary\n",
      "Science & education\n",
      "Traveling\n",
      "Writing/blogging\n",
      "Technology advancements\n",
      "Volunteer work/Community involvement\n",
      "Sports, health & wellness\n",
      "Art, music & entertainment\n",
      "Competition\n",
      "Reading\n",
      "Business\n",
      "Gaming\n",
      "Investing\n"
     ]
    }
   ],
   "source": [
    "mentors_tracker_df = mentors_df.set_index('mentor_id', inplace=False) # tracks the number of slots left\n",
    "final = pd.DataFrame([], columns=['mentor_id', 'mentee_id', 'score'])  # final matching pairs\n",
    "\n",
    "while True:\n",
    "    # find the distribution of interests\n",
    "    interests_dist = pd.DataFrame(mentors_tracker_df['interests'].tolist()).to_numpy().flatten()\n",
    "    interests_dist = [x for x in interests_dist if not np.isnan(x)]\n",
    "    interests_dist_df = pd.DataFrame([interests_dist, interests_dist], index=['interest_id', 'count']).T.groupby('interest_id').count()\n",
    "    \n",
    "    # finds the least popular interest\n",
    "    least_pop_interest = interests_dist_df.sort_values('count').reset_index().loc[0, 'interest_id']\n",
    "    print(interests_df.query('interest_id == @least_pop_interest').interest_name.values[0])\n",
    "\n",
    "    # populate mentors with this interest\n",
    "    filtered_mentors = mentors_tracker_df[\n",
    "        mentors_tracker_df['interests'].apply(lambda x: True if least_pop_interest in x else False)\n",
    "    ].index.tolist()\n",
    "\n",
    "    # filter pairs to only mentors with this interest\n",
    "    filtered_pairs = pairs.query('mentor_id in @filtered_mentors').sort_values('score', ascending=False).reset_index(drop=True)\n",
    "\n",
    "\n",
    "    i = final.shape[0]\n",
    "    while True:\n",
    "        # find the best pair\n",
    "        most_compatible = filtered_pairs.loc[0, ['mentor_id', 'mentee_id', 'score']].copy()\n",
    "\n",
    "        # remove the pair from the list\n",
    "        filtered_pairs.drop(0, inplace=True)\n",
    "\n",
    "        # add the pair to the final matching pairs\n",
    "        final.loc[i, :] = most_compatible\n",
    "\n",
    "        # substrack the mentor's slot\n",
    "        mentors_tracker_df.loc[most_compatible.mentor_id, 'n_slot'] -= 1\n",
    "\n",
    "        # if the mentor has no slots left, remove them\n",
    "        if mentors_tracker_df.loc[most_compatible.mentor_id, 'n_slot'] == 0:\n",
    "            mentors_tracker_df.drop(most_compatible.mentor_id, inplace=True)\n",
    "            filtered_pairs.drop(\n",
    "                filtered_pairs[filtered_pairs['mentor_id'] == most_compatible.mentor_id].index,\n",
    "                inplace=True\n",
    "            )\n",
    "        \n",
    "        filtered_pairs.reset_index(drop=True, inplace=True)\n",
    "        i += 1\n",
    "\n",
    "        # stop if there are no more pairs\n",
    "        if filtered_pairs.shape[0] == 0:\n",
    "            break\n",
    "    \n",
    "    # stop if there are no more mentors\n",
    "    if mentors_tracker_df.shape[0] == 0:\n",
    "        break\n",
    "\n",
    "final[['mentor_id', 'mentee_id']] = final[['mentor_id', 'mentee_id']].astype(int)"
   ]
  },
  {
   "cell_type": "code",
   "execution_count": 16,
   "metadata": {},
   "outputs": [],
   "source": [
    "final.to_csv('final.csv', index=False)"
   ]
  }
 ],
 "metadata": {
  "interpreter": {
   "hash": "d4d1e4263499bec80672ea0156c357c1ee493ec2b1c70f0acce89fc37c4a6abe"
  },
  "kernelspec": {
   "display_name": "Python 3.7.12 64-bit ('base': conda)",
   "language": "python",
   "name": "python3"
  },
  "language_info": {
   "codemirror_mode": {
    "name": "ipython",
    "version": 3
   },
   "file_extension": ".py",
   "mimetype": "text/x-python",
   "name": "python",
   "nbconvert_exporter": "python",
   "pygments_lexer": "ipython3",
   "version": "3.7.11"
  },
  "orig_nbformat": 4
 },
 "nbformat": 4,
 "nbformat_minor": 2
}
